{
 "cells": [
  {
   "cell_type": "markdown",
   "id": "2072748e",
   "metadata": {},
   "source": [
    "## **AIVLE School 미니프로젝트 5기 AI트랙 2차** ##\n",
    "## **공공데이터를 활용한 <span style=\"color:skyblue\">미세먼지 농도</span> 예측**\n",
    "---"
   ]
  },
  {
   "cell_type": "markdown",
   "id": "71d4fac7",
   "metadata": {},
   "source": [
    "## [step 3] 모델링"
   ]
  },
  {
   "cell_type": "markdown",
   "id": "428de2c9",
   "metadata": {},
   "source": [
    "## **0.프로젝트 소개**\n",
    "\n",
    "### (1) 수행 목표\n",
    "- 미세먼지 농도를 예측하는 머신러닝 모델을 만드세요."
   ]
  },
  {
   "cell_type": "markdown",
   "id": "673a15d8",
   "metadata": {},
   "source": [
    "#### 우리가 풀어야 하는 문제는 무엇인가요? \n",
    "* 서울 지역의 미세먼지 데이터와 날씨 데이터를 활용하여,\n",
    "미세먼지 예측에 관련 있는 데이터 항목으로 데이터를 구성, 전처리 하여 \n",
    "미세먼지 농도를 예측하는 머신러닝 모델 구현\n"
   ]
  },
  {
   "cell_type": "markdown",
   "id": "69494029",
   "metadata": {},
   "source": [
    "### (2) 데이터 소개\n",
    "\n",
    "#### 1) 기본 데이터\n",
    "\n",
    "* 학습 데이터\n",
    "    * air_2022.csv : 2022년 미세먼지 데이터\n",
    "    * weather_2022.csv : 2022년 날씨 데이터\n",
    "* 테스트 데이터\n",
    "    * air_2023.csv : 2023년 미세먼지 데이터\n",
    "    * weather_2023.csv : 2023년 날씨 데이터\n",
    "\n",
    "#### 2) 데이터셋의 변수 소개(weather_2022,2023)\n",
    "\n",
    "* 증기압: 증기가 고체 또는 액체와 동적 평형 상태에 있을 때 증기의 압력 (증기가 되려는 힘)\n",
    "* 이슬점 온도: 불포화 상태의 공기가 냉각될 때, 포화 상태에 도달하여 수증기의 응결이 시작되는 온도\n",
    "* 일조: 일정한 물체나 땅의 겉면에 태양 광선이 비치는 시간 (1시간 중 비율)\n",
    "* 일사(량): 태양으로부터 오는 태양 복사 에너지가 지표에 닿는 양 (면적당 에너지 량)\n",
    "* 전운량: 하늘을 육안으로 관측하여 전부 구름일 때 10, 구름이 덮고 있는 하늘의 비율에 따라 0~10\n",
    "* 중하층운량: 중층과 하층에 있는 구름의 분포량(중하층 구름이 날씨에 영향 주므로 따로 표기)\n",
    "* 운형(운형약어): 구름의 종류. 약어 코드로 기재됨\n",
    "* 최저운고: 가장 낮은 구름의 높이\n",
    "* 현상번호(국내식): 비, 소낙비, 싸락눈, 눈보라 등의 기상현상을 나타낸 코드번호\n",
    "* 지면온도: 지면 0cm 온도\n",
    "* 지중온도: 땅 속 온도변수1"
   ]
  },
  {
   "cell_type": "markdown",
   "id": "bc18a997",
   "metadata": {},
   "source": [
    "## **1.환경설정**"
   ]
  },
  {
   "cell_type": "markdown",
   "id": "aa9b0b72",
   "metadata": {},
   "source": [
    "* 세부 요구사항\n",
    "    - 경로 설정 : 다음의 두가지 방법 중 하나를 선택하여 폴더를 준비하고 데이터를 로딩하시오.\n",
    "        * 1) 로컬 수행(Ananconda)\n",
    "            * 제공된 압축파일을 다운받아 압축을 풀고\n",
    "            * anaconda의 root directory(보통 C:/Users/< ID > 에 project 폴더를 만들고, 복사해 넣습니다.\n",
    "        * 2) 구글코랩\n",
    "            * 구글 드라이브 바로 밑에 project 폴더를 만들고, \n",
    "            * 데이터 파일을 복사해 넣습니다.\n",
    "            \n",
    "    - 기본적으로 필요한 라이브러리를 import 하도록 코드가 작성되어 있습니다. \n",
    "        * 필요하다고 판단되는 라이브러리를 추가하세요."
   ]
  },
  {
   "cell_type": "markdown",
   "id": "a47552a4",
   "metadata": {},
   "source": [
    "### (1) 경로 설정\n",
    "* 로컬환경 또는 구글 코랩 중 하나를 사용하시면 됩니다."
   ]
  },
  {
   "cell_type": "markdown",
   "id": "6aac7e46",
   "metadata": {},
   "source": [
    "#### 1) 로컬 수행(Anaconda)\n",
    "* project 폴더에 필요한 파일들을 넣고, 본 파일을 열었다면, 별도 경로 지정이 필요하지 않습니다."
   ]
  },
  {
   "cell_type": "code",
   "execution_count": 1,
   "id": "dfe4ca4c",
   "metadata": {},
   "outputs": [],
   "source": [
    "# path = 'C:/Users/User/project/'"
   ]
  },
  {
   "cell_type": "markdown",
   "id": "73dcba5a",
   "metadata": {},
   "source": [
    "#### 2) 구글 코랩 수행"
   ]
  },
  {
   "cell_type": "markdown",
   "id": "6c4e499c",
   "metadata": {},
   "source": [
    "* 구글 드라이브 연결"
   ]
  },
  {
   "cell_type": "code",
   "execution_count": 2,
   "id": "89670042",
   "metadata": {},
   "outputs": [],
   "source": [
    "# from google.colab import drive\n",
    "# drive.mount('/content/drive')"
   ]
  },
  {
   "cell_type": "code",
   "execution_count": 3,
   "id": "b1fa58df",
   "metadata": {},
   "outputs": [],
   "source": [
    "# path = '/content/drive/MyDrive/project/'"
   ]
  },
  {
   "cell_type": "markdown",
   "id": "effcb513",
   "metadata": {},
   "source": [
    "### (2) 라이브러리 설치 및 불러오기"
   ]
  },
  {
   "cell_type": "markdown",
   "id": "66a50a8f",
   "metadata": {},
   "source": [
    "#### 1) 라이브러리 설치 및 로딩"
   ]
  },
  {
   "cell_type": "code",
   "execution_count": 4,
   "id": "6c7ede7b",
   "metadata": {
    "tags": []
   },
   "outputs": [],
   "source": [
    "# 필요한 라이브러리 설치 및 불러오기\n",
    "import pandas as pd\n",
    "import numpy as np\n",
    "import matplotlib.pyplot as plt\n",
    "import seaborn as sns\n",
    "import datetime\n",
    "\n",
    "from statsmodels.graphics.mosaicplot import mosaic\n",
    "from scipy import stats as spst\n",
    "import statsmodels.api as sm\n",
    "import joblib\n",
    "\n",
    "# 더 필요한 라이브러리를 아래에 추가합니다.\n",
    "\n",
    "import pandas as pd\n",
    "\n",
    "from sklearn.neighbors import KNeighborsRegressor\n",
    "from sklearn.linear_model import LinearRegression, Lasso, Ridge, ElasticNet\n",
    "from sklearn.tree import DecisionTreeRegressor as DTR\n",
    "from sklearn.ensemble import RandomForestRegressor as RFR\n",
    "from sklearn.ensemble import GradientBoostingRegressor as GBR\n",
    "from sklearn.metrics import mean_squared_error as mse\n",
    "from sklearn.metrics import r2_score\n",
    "from sklearn.metrics import f1_score\n",
    "from sklearn.metrics import accuracy_score as acc\n",
    "from sklearn.metrics import recall_score as recall\n",
    "import joblib"
   ]
  },
  {
   "cell_type": "code",
   "execution_count": 5,
   "id": "85064fd0",
   "metadata": {
    "tags": []
   },
   "outputs": [],
   "source": [
    "# 시각화 한글폰트 설정을 위해 아래 코드를 실행하세요.\n",
    "plt.rc('font', family='Malgun Gothic')\n",
    "sns.set(font=\"Malgun Gothic\",#\"NanumGothicCoding\", \n",
    "        rc={\"axes.unicode_minus\":False}, # 마이너스 부호 깨짐 현상 해결\n",
    "        style='darkgrid')"
   ]
  },
  {
   "cell_type": "markdown",
   "id": "2c10e691",
   "metadata": {},
   "source": [
    "### (3) 데이터 불러오기\n",
    "* 주어진 데이터셋\n",
    "    * 미세먼지 및 날씨 데이터 : train_x.csv / train_y.csv / test_x.csv / test_y.csv"
   ]
  },
  {
   "cell_type": "markdown",
   "id": "23ec5bb8",
   "metadata": {},
   "source": [
    "#### 1) 데이터 로딩"
   ]
  },
  {
   "cell_type": "code",
   "execution_count": 6,
   "id": "1b9cf763",
   "metadata": {
    "tags": []
   },
   "outputs": [],
   "source": [
    "# train_x.csv / train_y.csv / test_x.csv / test_y.csv 4개의 데이터 로딩\n",
    "train_x = pd.read_csv('train_x.csv')\n",
    "train_y = pd.read_csv('train_y.csv')\n",
    "test_x = pd.read_csv('test_x.csv')\n",
    "test_y = pd.read_csv('test_y.csv')\n"
   ]
  },
  {
   "cell_type": "markdown",
   "id": "bc1e7485",
   "metadata": {},
   "source": [
    "#### 2) 기본 정보 조회\n",
    "* 로딩한 데이터의 기본 정보를 확인 합니다(info 등..)"
   ]
  },
  {
   "cell_type": "code",
   "execution_count": 7,
   "id": "d8cc7d75",
   "metadata": {
    "tags": []
   },
   "outputs": [
    {
     "name": "stdout",
     "output_type": "stream",
     "text": [
      "<class 'pandas.core.frame.DataFrame'>\n",
      "RangeIndex: 8760 entries, 0 to 8759\n",
      "Data columns (total 32 columns):\n",
      " #   Column         Non-Null Count  Dtype  \n",
      "---  ------         --------------  -----  \n",
      " 0   SO2            8760 non-null   float64\n",
      " 1   CO             8760 non-null   float64\n",
      " 2   O3             8760 non-null   float64\n",
      " 3   NO2            8760 non-null   float64\n",
      " 4   PM10           8760 non-null   float64\n",
      " 5   PM25           8760 non-null   float64\n",
      " 6   기온(°C)         8760 non-null   float64\n",
      " 7   강수량(mm)        8760 non-null   float64\n",
      " 8   풍속(m/s)        8760 non-null   float64\n",
      " 9   풍향(16방위)       8760 non-null   int64  \n",
      " 10  습도(%)          8760 non-null   int64  \n",
      " 11  증기압(hPa)       8760 non-null   float64\n",
      " 12  이슬점온도(°C)      8760 non-null   float64\n",
      " 13  현지기압(hPa)      8760 non-null   float64\n",
      " 14  해면기압(hPa)      8760 non-null   float64\n",
      " 15  일조(hr)         8760 non-null   float64\n",
      " 16  일사(MJ/m2)      8760 non-null   float64\n",
      " 17  적설(cm)         8760 non-null   float64\n",
      " 18  3시간신적설(cm)     8760 non-null   float64\n",
      " 19  전운량(10분위)      8760 non-null   int64  \n",
      " 20  중하층운량(10분위)    8760 non-null   int64  \n",
      " 21  최저운고(100m )    8760 non-null   float64\n",
      " 22  시정(10m)        8760 non-null   int64  \n",
      " 23  지면온도(°C)       8760 non-null   float64\n",
      " 24  5cm 지중온도(°C)   8760 non-null   float64\n",
      " 25  10cm 지중온도(°C)  8760 non-null   float64\n",
      " 26  20cm 지중온도(°C)  8760 non-null   float64\n",
      " 27  30cm 지중온도(°C)  8760 non-null   float64\n",
      " 28  month          8760 non-null   int64  \n",
      " 29  day            8760 non-null   int64  \n",
      " 30  hour           8760 non-null   int64  \n",
      " 31  before_1       8760 non-null   float64\n",
      "dtypes: float64(24), int64(8)\n",
      "memory usage: 2.1 MB\n"
     ]
    }
   ],
   "source": [
    "# 아래에 실습코드를 작성하고 결과를 확인합니다.\n",
    "train_x.info()\n"
   ]
  },
  {
   "cell_type": "markdown",
   "id": "20aaca37-89d7-4045-affa-5a510c69495e",
   "metadata": {
    "tags": []
   },
   "source": [
    "## **2.머신러닝 모델링**"
   ]
  },
  {
   "cell_type": "markdown",
   "id": "66dca0e8-a0d1-4562-8afe-3e8f85733393",
   "metadata": {
    "tags": []
   },
   "source": [
    "### (1) 모델링: LinearRegression"
   ]
  },
  {
   "cell_type": "markdown",
   "id": "joined-client",
   "metadata": {},
   "source": [
    "* Train과 Test로 나눈 데이터를 기준으로 LinearRegression 모델링을 진행하고 평가를 해주세요.\n",
    "* 그리고 모델 파일을 pkl로 저장해주세요.\n",
    "* 성능지표 : MSE, R-squared Score(소수점 5째자리까지)"
   ]
  },
  {
   "cell_type": "code",
   "execution_count": 8,
   "id": "willing-disclaimer",
   "metadata": {
    "tags": []
   },
   "outputs": [],
   "source": [
    "# LinearRegression 코드를 작성하세요.\n"
   ]
  },
  {
   "cell_type": "code",
   "execution_count": 9,
   "id": "34e3d420-703f-4de5-bd81-4b1b167318e2",
   "metadata": {
    "tags": []
   },
   "outputs": [
    {
     "data": {
      "text/html": [
       "<style>#sk-container-id-1 {color: black;}#sk-container-id-1 pre{padding: 0;}#sk-container-id-1 div.sk-toggleable {background-color: white;}#sk-container-id-1 label.sk-toggleable__label {cursor: pointer;display: block;width: 100%;margin-bottom: 0;padding: 0.3em;box-sizing: border-box;text-align: center;}#sk-container-id-1 label.sk-toggleable__label-arrow:before {content: \"▸\";float: left;margin-right: 0.25em;color: #696969;}#sk-container-id-1 label.sk-toggleable__label-arrow:hover:before {color: black;}#sk-container-id-1 div.sk-estimator:hover label.sk-toggleable__label-arrow:before {color: black;}#sk-container-id-1 div.sk-toggleable__content {max-height: 0;max-width: 0;overflow: hidden;text-align: left;background-color: #f0f8ff;}#sk-container-id-1 div.sk-toggleable__content pre {margin: 0.2em;color: black;border-radius: 0.25em;background-color: #f0f8ff;}#sk-container-id-1 input.sk-toggleable__control:checked~div.sk-toggleable__content {max-height: 200px;max-width: 100%;overflow: auto;}#sk-container-id-1 input.sk-toggleable__control:checked~label.sk-toggleable__label-arrow:before {content: \"▾\";}#sk-container-id-1 div.sk-estimator input.sk-toggleable__control:checked~label.sk-toggleable__label {background-color: #d4ebff;}#sk-container-id-1 div.sk-label input.sk-toggleable__control:checked~label.sk-toggleable__label {background-color: #d4ebff;}#sk-container-id-1 input.sk-hidden--visually {border: 0;clip: rect(1px 1px 1px 1px);clip: rect(1px, 1px, 1px, 1px);height: 1px;margin: -1px;overflow: hidden;padding: 0;position: absolute;width: 1px;}#sk-container-id-1 div.sk-estimator {font-family: monospace;background-color: #f0f8ff;border: 1px dotted black;border-radius: 0.25em;box-sizing: border-box;margin-bottom: 0.5em;}#sk-container-id-1 div.sk-estimator:hover {background-color: #d4ebff;}#sk-container-id-1 div.sk-parallel-item::after {content: \"\";width: 100%;border-bottom: 1px solid gray;flex-grow: 1;}#sk-container-id-1 div.sk-label:hover label.sk-toggleable__label {background-color: #d4ebff;}#sk-container-id-1 div.sk-serial::before {content: \"\";position: absolute;border-left: 1px solid gray;box-sizing: border-box;top: 0;bottom: 0;left: 50%;z-index: 0;}#sk-container-id-1 div.sk-serial {display: flex;flex-direction: column;align-items: center;background-color: white;padding-right: 0.2em;padding-left: 0.2em;position: relative;}#sk-container-id-1 div.sk-item {position: relative;z-index: 1;}#sk-container-id-1 div.sk-parallel {display: flex;align-items: stretch;justify-content: center;background-color: white;position: relative;}#sk-container-id-1 div.sk-item::before, #sk-container-id-1 div.sk-parallel-item::before {content: \"\";position: absolute;border-left: 1px solid gray;box-sizing: border-box;top: 0;bottom: 0;left: 50%;z-index: -1;}#sk-container-id-1 div.sk-parallel-item {display: flex;flex-direction: column;z-index: 1;position: relative;background-color: white;}#sk-container-id-1 div.sk-parallel-item:first-child::after {align-self: flex-end;width: 50%;}#sk-container-id-1 div.sk-parallel-item:last-child::after {align-self: flex-start;width: 50%;}#sk-container-id-1 div.sk-parallel-item:only-child::after {width: 0;}#sk-container-id-1 div.sk-dashed-wrapped {border: 1px dashed gray;margin: 0 0.4em 0.5em 0.4em;box-sizing: border-box;padding-bottom: 0.4em;background-color: white;}#sk-container-id-1 div.sk-label label {font-family: monospace;font-weight: bold;display: inline-block;line-height: 1.2em;}#sk-container-id-1 div.sk-label-container {text-align: center;}#sk-container-id-1 div.sk-container {/* jupyter's `normalize.less` sets `[hidden] { display: none; }` but bootstrap.min.css set `[hidden] { display: none !important; }` so we also need the `!important` here to be able to override the default hidden behavior on the sphinx rendered scikit-learn.org. See: https://github.com/scikit-learn/scikit-learn/issues/21755 */display: inline-block !important;position: relative;}#sk-container-id-1 div.sk-text-repr-fallback {display: none;}</style><div id=\"sk-container-id-1\" class=\"sk-top-container\"><div class=\"sk-text-repr-fallback\"><pre>LinearRegression()</pre><b>In a Jupyter environment, please rerun this cell to show the HTML representation or trust the notebook. <br />On GitHub, the HTML representation is unable to render, please try loading this page with nbviewer.org.</b></div><div class=\"sk-container\" hidden><div class=\"sk-item\"><div class=\"sk-estimator sk-toggleable\"><input class=\"sk-toggleable__control sk-hidden--visually\" id=\"sk-estimator-id-1\" type=\"checkbox\" checked><label for=\"sk-estimator-id-1\" class=\"sk-toggleable__label sk-toggleable__label-arrow\">LinearRegression</label><div class=\"sk-toggleable__content\"><pre>LinearRegression()</pre></div></div></div></div></div>"
      ],
      "text/plain": [
       "LinearRegression()"
      ]
     },
     "execution_count": 9,
     "metadata": {},
     "output_type": "execute_result"
    }
   ],
   "source": [
    "# predict로 예측하여 y_pred_LR에 저장해보세요.\n",
    "lr = LinearRegression()\n",
    "lr.fit(train_x, train_y)"
   ]
  },
  {
   "cell_type": "code",
   "execution_count": 10,
   "id": "14b6636d-86d9-4bed-a296-bc90ecb22b27",
   "metadata": {
    "tags": []
   },
   "outputs": [],
   "source": [
    "y_pred_LR = lr.predict(test_x)"
   ]
  },
  {
   "cell_type": "code",
   "execution_count": 11,
   "id": "0a21d60f",
   "metadata": {
    "tags": []
   },
   "outputs": [
    {
     "name": "stdout",
     "output_type": "stream",
     "text": [
      "45.46435281062683\n",
      "0.9594328628375863\n"
     ]
    }
   ],
   "source": [
    "# test_y 데이터와 y_pred_LR 데이터로 성능을 평가하여 출력해보세요.\n",
    "# 성능지표는 mse와 r2를 이용하세요.\n",
    "print(mse(test_y, y_pred_LR))\n",
    "print(r2_score(test_y, y_pred_LR))"
   ]
  },
  {
   "cell_type": "code",
   "execution_count": 12,
   "id": "b2a7208a-0ee6-4738-9b87-0505f7401a57",
   "metadata": {
    "tags": []
   },
   "outputs": [],
   "source": [
    "coef = {}\n",
    "for i,j in zip(train_x.columns, list(*lr.coef_)):\n",
    "    coef[i] = j"
   ]
  },
  {
   "cell_type": "code",
   "execution_count": 13,
   "id": "b6ab2fc6-84b8-448c-b5cd-9d4af7d1c6de",
   "metadata": {
    "tags": []
   },
   "outputs": [
    {
     "data": {
      "text/html": [
       "<div>\n",
       "<style scoped>\n",
       "    .dataframe tbody tr th:only-of-type {\n",
       "        vertical-align: middle;\n",
       "    }\n",
       "\n",
       "    .dataframe tbody tr th {\n",
       "        vertical-align: top;\n",
       "    }\n",
       "\n",
       "    .dataframe thead th {\n",
       "        text-align: right;\n",
       "    }\n",
       "</style>\n",
       "<table border=\"1\" class=\"dataframe\">\n",
       "  <thead>\n",
       "    <tr style=\"text-align: right;\">\n",
       "      <th></th>\n",
       "      <th>feature</th>\n",
       "      <th>coef</th>\n",
       "    </tr>\n",
       "  </thead>\n",
       "  <tbody>\n",
       "    <tr>\n",
       "      <th>0</th>\n",
       "      <td>SO2</td>\n",
       "      <td>-183.118248</td>\n",
       "    </tr>\n",
       "    <tr>\n",
       "      <th>13</th>\n",
       "      <td>현지기압(hPa)</td>\n",
       "      <td>-3.626223</td>\n",
       "    </tr>\n",
       "    <tr>\n",
       "      <th>26</th>\n",
       "      <td>20cm 지중온도(°C)</td>\n",
       "      <td>-0.377886</td>\n",
       "    </tr>\n",
       "    <tr>\n",
       "      <th>12</th>\n",
       "      <td>이슬점온도(°C)</td>\n",
       "      <td>-0.304320</td>\n",
       "    </tr>\n",
       "    <tr>\n",
       "      <th>8</th>\n",
       "      <td>풍속(m/s)</td>\n",
       "      <td>-0.248859</td>\n",
       "    </tr>\n",
       "    <tr>\n",
       "      <th>16</th>\n",
       "      <td>일사(MJ/m2)</td>\n",
       "      <td>-0.225681</td>\n",
       "    </tr>\n",
       "    <tr>\n",
       "      <th>7</th>\n",
       "      <td>강수량(mm)</td>\n",
       "      <td>-0.084411</td>\n",
       "    </tr>\n",
       "    <tr>\n",
       "      <th>25</th>\n",
       "      <td>10cm 지중온도(°C)</td>\n",
       "      <td>-0.081382</td>\n",
       "    </tr>\n",
       "    <tr>\n",
       "      <th>24</th>\n",
       "      <td>5cm 지중온도(°C)</td>\n",
       "      <td>-0.063786</td>\n",
       "    </tr>\n",
       "    <tr>\n",
       "      <th>28</th>\n",
       "      <td>month</td>\n",
       "      <td>-0.059100</td>\n",
       "    </tr>\n",
       "    <tr>\n",
       "      <th>5</th>\n",
       "      <td>PM25</td>\n",
       "      <td>-0.040812</td>\n",
       "    </tr>\n",
       "    <tr>\n",
       "      <th>11</th>\n",
       "      <td>증기압(hPa)</td>\n",
       "      <td>-0.030985</td>\n",
       "    </tr>\n",
       "    <tr>\n",
       "      <th>30</th>\n",
       "      <td>hour</td>\n",
       "      <td>-0.007176</td>\n",
       "    </tr>\n",
       "    <tr>\n",
       "      <th>29</th>\n",
       "      <td>day</td>\n",
       "      <td>-0.006879</td>\n",
       "    </tr>\n",
       "    <tr>\n",
       "      <th>20</th>\n",
       "      <td>중하층운량(10분위)</td>\n",
       "      <td>-0.005338</td>\n",
       "    </tr>\n",
       "    <tr>\n",
       "      <th>21</th>\n",
       "      <td>최저운고(100m )</td>\n",
       "      <td>-0.003570</td>\n",
       "    </tr>\n",
       "    <tr>\n",
       "      <th>31</th>\n",
       "      <td>before_1</td>\n",
       "      <td>-0.001416</td>\n",
       "    </tr>\n",
       "    <tr>\n",
       "      <th>23</th>\n",
       "      <td>지면온도(°C)</td>\n",
       "      <td>-0.001357</td>\n",
       "    </tr>\n",
       "    <tr>\n",
       "      <th>22</th>\n",
       "      <td>시정(10m)</td>\n",
       "      <td>0.000535</td>\n",
       "    </tr>\n",
       "    <tr>\n",
       "      <th>9</th>\n",
       "      <td>풍향(16방위)</td>\n",
       "      <td>0.001202</td>\n",
       "    </tr>\n",
       "    <tr>\n",
       "      <th>19</th>\n",
       "      <td>전운량(10분위)</td>\n",
       "      <td>0.008923</td>\n",
       "    </tr>\n",
       "    <tr>\n",
       "      <th>10</th>\n",
       "      <td>습도(%)</td>\n",
       "      <td>0.090757</td>\n",
       "    </tr>\n",
       "    <tr>\n",
       "      <th>17</th>\n",
       "      <td>적설(cm)</td>\n",
       "      <td>0.227471</td>\n",
       "    </tr>\n",
       "    <tr>\n",
       "      <th>27</th>\n",
       "      <td>30cm 지중온도(°C)</td>\n",
       "      <td>0.427902</td>\n",
       "    </tr>\n",
       "    <tr>\n",
       "      <th>18</th>\n",
       "      <td>3시간신적설(cm)</td>\n",
       "      <td>0.438335</td>\n",
       "    </tr>\n",
       "    <tr>\n",
       "      <th>6</th>\n",
       "      <td>기온(°C)</td>\n",
       "      <td>0.528911</td>\n",
       "    </tr>\n",
       "    <tr>\n",
       "      <th>15</th>\n",
       "      <td>일조(hr)</td>\n",
       "      <td>0.646875</td>\n",
       "    </tr>\n",
       "    <tr>\n",
       "      <th>4</th>\n",
       "      <td>PM10</td>\n",
       "      <td>0.968419</td>\n",
       "    </tr>\n",
       "    <tr>\n",
       "      <th>14</th>\n",
       "      <td>해면기압(hPa)</td>\n",
       "      <td>3.559440</td>\n",
       "    </tr>\n",
       "    <tr>\n",
       "      <th>1</th>\n",
       "      <td>CO</td>\n",
       "      <td>3.674598</td>\n",
       "    </tr>\n",
       "    <tr>\n",
       "      <th>2</th>\n",
       "      <td>O3</td>\n",
       "      <td>30.861568</td>\n",
       "    </tr>\n",
       "    <tr>\n",
       "      <th>3</th>\n",
       "      <td>NO2</td>\n",
       "      <td>32.306592</td>\n",
       "    </tr>\n",
       "  </tbody>\n",
       "</table>\n",
       "</div>"
      ],
      "text/plain": [
       "          feature        coef\n",
       "0             SO2 -183.118248\n",
       "13      현지기압(hPa)   -3.626223\n",
       "26  20cm 지중온도(°C)   -0.377886\n",
       "12      이슬점온도(°C)   -0.304320\n",
       "8         풍속(m/s)   -0.248859\n",
       "16      일사(MJ/m2)   -0.225681\n",
       "7         강수량(mm)   -0.084411\n",
       "25  10cm 지중온도(°C)   -0.081382\n",
       "24   5cm 지중온도(°C)   -0.063786\n",
       "28          month   -0.059100\n",
       "5            PM25   -0.040812\n",
       "11       증기압(hPa)   -0.030985\n",
       "30           hour   -0.007176\n",
       "29            day   -0.006879\n",
       "20    중하층운량(10분위)   -0.005338\n",
       "21    최저운고(100m )   -0.003570\n",
       "31       before_1   -0.001416\n",
       "23       지면온도(°C)   -0.001357\n",
       "22        시정(10m)    0.000535\n",
       "9        풍향(16방위)    0.001202\n",
       "19      전운량(10분위)    0.008923\n",
       "10          습도(%)    0.090757\n",
       "17         적설(cm)    0.227471\n",
       "27  30cm 지중온도(°C)    0.427902\n",
       "18     3시간신적설(cm)    0.438335\n",
       "6          기온(°C)    0.528911\n",
       "15         일조(hr)    0.646875\n",
       "4            PM10    0.968419\n",
       "14      해면기압(hPa)    3.559440\n",
       "1              CO    3.674598\n",
       "2              O3   30.861568\n",
       "3             NO2   32.306592"
      ]
     },
     "execution_count": 13,
     "metadata": {},
     "output_type": "execute_result"
    }
   ],
   "source": [
    "coef = pd.DataFrame(coef, index=[0])\n",
    "coef = coef.transpose()\n",
    "coef.reset_index(inplace=True)\n",
    "coef.columns = ['feature','coef']\n",
    "coef.sort_values(by='coef')"
   ]
  },
  {
   "cell_type": "code",
   "execution_count": 14,
   "id": "b56ea447-0ce6-4a62-8674-2f1dc79c97b0",
   "metadata": {
    "tags": []
   },
   "outputs": [
    {
     "name": "stdout",
     "output_type": "stream",
     "text": [
      "45.46435281062693\n",
      "0.9594328628375862\n"
     ]
    }
   ],
   "source": [
    "from sklearn.preprocessing import MinMaxScaler\n",
    "\n",
    "scaler = MinMaxScaler()\n",
    "train_x_s = scaler.fit_transform(train_x)\n",
    "test_x_s = scaler.transform(test_x)\n",
    "\n",
    "lr_s = LinearRegression()\n",
    "lr_s.fit(train_x_s, train_y)\n",
    "y_pred_lr_s = lr_s.predict(test_x_s)\n",
    "\n",
    "print(mse(test_y, y_pred_lr_s))\n",
    "print(r2_score(test_y, y_pred_lr_s))"
   ]
  },
  {
   "cell_type": "code",
   "execution_count": 15,
   "id": "7c254b51-aaca-4d9f-b549-a4ab87a221bf",
   "metadata": {
    "tags": []
   },
   "outputs": [],
   "source": [
    "coef_s = {}\n",
    "for i,j in zip(train_x.columns, list(*lr_s.coef_)):\n",
    "    coef_s[i] = j"
   ]
  },
  {
   "cell_type": "code",
   "execution_count": 16,
   "id": "72f1c06d-5b5b-4eea-abab-019f52875243",
   "metadata": {
    "tags": []
   },
   "outputs": [
    {
     "data": {
      "text/html": [
       "<div>\n",
       "<style scoped>\n",
       "    .dataframe tbody tr th:only-of-type {\n",
       "        vertical-align: middle;\n",
       "    }\n",
       "\n",
       "    .dataframe tbody tr th {\n",
       "        vertical-align: top;\n",
       "    }\n",
       "\n",
       "    .dataframe thead th {\n",
       "        text-align: right;\n",
       "    }\n",
       "</style>\n",
       "<table border=\"1\" class=\"dataframe\">\n",
       "  <thead>\n",
       "    <tr style=\"text-align: right;\">\n",
       "      <th></th>\n",
       "      <th>feature</th>\n",
       "      <th>coef_s</th>\n",
       "    </tr>\n",
       "  </thead>\n",
       "  <tbody>\n",
       "    <tr>\n",
       "      <th>13</th>\n",
       "      <td>현지기압(hPa)</td>\n",
       "      <td>-147.587277</td>\n",
       "    </tr>\n",
       "    <tr>\n",
       "      <th>12</th>\n",
       "      <td>이슬점온도(°C)</td>\n",
       "      <td>-15.124697</td>\n",
       "    </tr>\n",
       "    <tr>\n",
       "      <th>26</th>\n",
       "      <td>20cm 지중온도(°C)</td>\n",
       "      <td>-11.941190</td>\n",
       "    </tr>\n",
       "    <tr>\n",
       "      <th>5</th>\n",
       "      <td>PM25</td>\n",
       "      <td>-4.897488</td>\n",
       "    </tr>\n",
       "    <tr>\n",
       "      <th>7</th>\n",
       "      <td>강수량(mm)</td>\n",
       "      <td>-3.435529</td>\n",
       "    </tr>\n",
       "    <tr>\n",
       "      <th>25</th>\n",
       "      <td>10cm 지중온도(°C)</td>\n",
       "      <td>-2.791395</td>\n",
       "    </tr>\n",
       "    <tr>\n",
       "      <th>24</th>\n",
       "      <td>5cm 지중온도(°C)</td>\n",
       "      <td>-2.277153</td>\n",
       "    </tr>\n",
       "    <tr>\n",
       "      <th>8</th>\n",
       "      <td>풍속(m/s)</td>\n",
       "      <td>-2.189958</td>\n",
       "    </tr>\n",
       "    <tr>\n",
       "      <th>0</th>\n",
       "      <td>SO2</td>\n",
       "      <td>-1.281828</td>\n",
       "    </tr>\n",
       "    <tr>\n",
       "      <th>11</th>\n",
       "      <td>증기압(hPa)</td>\n",
       "      <td>-1.059697</td>\n",
       "    </tr>\n",
       "    <tr>\n",
       "      <th>16</th>\n",
       "      <td>일사(MJ/m2)</td>\n",
       "      <td>-0.850816</td>\n",
       "    </tr>\n",
       "    <tr>\n",
       "      <th>28</th>\n",
       "      <td>month</td>\n",
       "      <td>-0.650101</td>\n",
       "    </tr>\n",
       "    <tr>\n",
       "      <th>31</th>\n",
       "      <td>before_1</td>\n",
       "      <td>-0.545063</td>\n",
       "    </tr>\n",
       "    <tr>\n",
       "      <th>21</th>\n",
       "      <td>최저운고(100m )</td>\n",
       "      <td>-0.271329</td>\n",
       "    </tr>\n",
       "    <tr>\n",
       "      <th>29</th>\n",
       "      <td>day</td>\n",
       "      <td>-0.206363</td>\n",
       "    </tr>\n",
       "    <tr>\n",
       "      <th>30</th>\n",
       "      <td>hour</td>\n",
       "      <td>-0.165056</td>\n",
       "    </tr>\n",
       "    <tr>\n",
       "      <th>23</th>\n",
       "      <td>지면온도(°C)</td>\n",
       "      <td>-0.095373</td>\n",
       "    </tr>\n",
       "    <tr>\n",
       "      <th>20</th>\n",
       "      <td>중하층운량(10분위)</td>\n",
       "      <td>-0.053379</td>\n",
       "    </tr>\n",
       "    <tr>\n",
       "      <th>19</th>\n",
       "      <td>전운량(10분위)</td>\n",
       "      <td>0.089231</td>\n",
       "    </tr>\n",
       "    <tr>\n",
       "      <th>9</th>\n",
       "      <td>풍향(16방위)</td>\n",
       "      <td>0.432630</td>\n",
       "    </tr>\n",
       "    <tr>\n",
       "      <th>15</th>\n",
       "      <td>일조(hr)</td>\n",
       "      <td>0.646875</td>\n",
       "    </tr>\n",
       "    <tr>\n",
       "      <th>22</th>\n",
       "      <td>시정(10m)</td>\n",
       "      <td>1.045935</td>\n",
       "    </tr>\n",
       "    <tr>\n",
       "      <th>17</th>\n",
       "      <td>적설(cm)</td>\n",
       "      <td>1.137353</td>\n",
       "    </tr>\n",
       "    <tr>\n",
       "      <th>18</th>\n",
       "      <td>3시간신적설(cm)</td>\n",
       "      <td>1.884841</td>\n",
       "    </tr>\n",
       "    <tr>\n",
       "      <th>3</th>\n",
       "      <td>NO2</td>\n",
       "      <td>2.293768</td>\n",
       "    </tr>\n",
       "    <tr>\n",
       "      <th>2</th>\n",
       "      <td>O3</td>\n",
       "      <td>4.413204</td>\n",
       "    </tr>\n",
       "    <tr>\n",
       "      <th>1</th>\n",
       "      <td>CO</td>\n",
       "      <td>5.879356</td>\n",
       "    </tr>\n",
       "    <tr>\n",
       "      <th>10</th>\n",
       "      <td>습도(%)</td>\n",
       "      <td>7.532817</td>\n",
       "    </tr>\n",
       "    <tr>\n",
       "      <th>27</th>\n",
       "      <td>30cm 지중온도(°C)</td>\n",
       "      <td>12.623115</td>\n",
       "    </tr>\n",
       "    <tr>\n",
       "      <th>6</th>\n",
       "      <td>기온(°C)</td>\n",
       "      <td>26.075290</td>\n",
       "    </tr>\n",
       "    <tr>\n",
       "      <th>14</th>\n",
       "      <td>해면기압(hPa)</td>\n",
       "      <td>150.564321</td>\n",
       "    </tr>\n",
       "    <tr>\n",
       "      <th>4</th>\n",
       "      <td>PM10</td>\n",
       "      <td>369.936014</td>\n",
       "    </tr>\n",
       "  </tbody>\n",
       "</table>\n",
       "</div>"
      ],
      "text/plain": [
       "          feature      coef_s\n",
       "13      현지기압(hPa) -147.587277\n",
       "12      이슬점온도(°C)  -15.124697\n",
       "26  20cm 지중온도(°C)  -11.941190\n",
       "5            PM25   -4.897488\n",
       "7         강수량(mm)   -3.435529\n",
       "25  10cm 지중온도(°C)   -2.791395\n",
       "24   5cm 지중온도(°C)   -2.277153\n",
       "8         풍속(m/s)   -2.189958\n",
       "0             SO2   -1.281828\n",
       "11       증기압(hPa)   -1.059697\n",
       "16      일사(MJ/m2)   -0.850816\n",
       "28          month   -0.650101\n",
       "31       before_1   -0.545063\n",
       "21    최저운고(100m )   -0.271329\n",
       "29            day   -0.206363\n",
       "30           hour   -0.165056\n",
       "23       지면온도(°C)   -0.095373\n",
       "20    중하층운량(10분위)   -0.053379\n",
       "19      전운량(10분위)    0.089231\n",
       "9        풍향(16방위)    0.432630\n",
       "15         일조(hr)    0.646875\n",
       "22        시정(10m)    1.045935\n",
       "17         적설(cm)    1.137353\n",
       "18     3시간신적설(cm)    1.884841\n",
       "3             NO2    2.293768\n",
       "2              O3    4.413204\n",
       "1              CO    5.879356\n",
       "10          습도(%)    7.532817\n",
       "27  30cm 지중온도(°C)   12.623115\n",
       "6          기온(°C)   26.075290\n",
       "14      해면기압(hPa)  150.564321\n",
       "4            PM10  369.936014"
      ]
     },
     "execution_count": 16,
     "metadata": {},
     "output_type": "execute_result"
    }
   ],
   "source": [
    "coef_s = pd.DataFrame(coef_s, index=[0])\n",
    "coef_s = coef_s.transpose()\n",
    "coef_s.reset_index(inplace=True)\n",
    "coef_s.columns = ['feature','coef_s']\n",
    "coef_s.sort_values(by='coef_s')"
   ]
  },
  {
   "cell_type": "code",
   "execution_count": 17,
   "id": "1fe9dc02-bd2e-46f8-8a0f-73e974c9eb60",
   "metadata": {
    "tags": []
   },
   "outputs": [
    {
     "data": {
      "text/html": [
       "<div>\n",
       "<style scoped>\n",
       "    .dataframe tbody tr th:only-of-type {\n",
       "        vertical-align: middle;\n",
       "    }\n",
       "\n",
       "    .dataframe tbody tr th {\n",
       "        vertical-align: top;\n",
       "    }\n",
       "\n",
       "    .dataframe thead th {\n",
       "        text-align: right;\n",
       "    }\n",
       "</style>\n",
       "<table border=\"1\" class=\"dataframe\">\n",
       "  <thead>\n",
       "    <tr style=\"text-align: right;\">\n",
       "      <th></th>\n",
       "      <th>feature</th>\n",
       "      <th>coef</th>\n",
       "      <th>coef_s</th>\n",
       "    </tr>\n",
       "  </thead>\n",
       "  <tbody>\n",
       "    <tr>\n",
       "      <th>0</th>\n",
       "      <td>SO2</td>\n",
       "      <td>-183.118248</td>\n",
       "      <td>-1.281828</td>\n",
       "    </tr>\n",
       "    <tr>\n",
       "      <th>1</th>\n",
       "      <td>CO</td>\n",
       "      <td>3.674598</td>\n",
       "      <td>5.879356</td>\n",
       "    </tr>\n",
       "    <tr>\n",
       "      <th>2</th>\n",
       "      <td>O3</td>\n",
       "      <td>30.861568</td>\n",
       "      <td>4.413204</td>\n",
       "    </tr>\n",
       "    <tr>\n",
       "      <th>3</th>\n",
       "      <td>NO2</td>\n",
       "      <td>32.306592</td>\n",
       "      <td>2.293768</td>\n",
       "    </tr>\n",
       "    <tr>\n",
       "      <th>4</th>\n",
       "      <td>PM10</td>\n",
       "      <td>0.968419</td>\n",
       "      <td>369.936014</td>\n",
       "    </tr>\n",
       "    <tr>\n",
       "      <th>5</th>\n",
       "      <td>PM25</td>\n",
       "      <td>-0.040812</td>\n",
       "      <td>-4.897488</td>\n",
       "    </tr>\n",
       "    <tr>\n",
       "      <th>6</th>\n",
       "      <td>기온(°C)</td>\n",
       "      <td>0.528911</td>\n",
       "      <td>26.075290</td>\n",
       "    </tr>\n",
       "    <tr>\n",
       "      <th>7</th>\n",
       "      <td>강수량(mm)</td>\n",
       "      <td>-0.084411</td>\n",
       "      <td>-3.435529</td>\n",
       "    </tr>\n",
       "    <tr>\n",
       "      <th>8</th>\n",
       "      <td>풍속(m/s)</td>\n",
       "      <td>-0.248859</td>\n",
       "      <td>-2.189958</td>\n",
       "    </tr>\n",
       "    <tr>\n",
       "      <th>9</th>\n",
       "      <td>풍향(16방위)</td>\n",
       "      <td>0.001202</td>\n",
       "      <td>0.432630</td>\n",
       "    </tr>\n",
       "    <tr>\n",
       "      <th>10</th>\n",
       "      <td>습도(%)</td>\n",
       "      <td>0.090757</td>\n",
       "      <td>7.532817</td>\n",
       "    </tr>\n",
       "    <tr>\n",
       "      <th>11</th>\n",
       "      <td>증기압(hPa)</td>\n",
       "      <td>-0.030985</td>\n",
       "      <td>-1.059697</td>\n",
       "    </tr>\n",
       "    <tr>\n",
       "      <th>12</th>\n",
       "      <td>이슬점온도(°C)</td>\n",
       "      <td>-0.304320</td>\n",
       "      <td>-15.124697</td>\n",
       "    </tr>\n",
       "    <tr>\n",
       "      <th>13</th>\n",
       "      <td>현지기압(hPa)</td>\n",
       "      <td>-3.626223</td>\n",
       "      <td>-147.587277</td>\n",
       "    </tr>\n",
       "    <tr>\n",
       "      <th>14</th>\n",
       "      <td>해면기압(hPa)</td>\n",
       "      <td>3.559440</td>\n",
       "      <td>150.564321</td>\n",
       "    </tr>\n",
       "    <tr>\n",
       "      <th>15</th>\n",
       "      <td>일조(hr)</td>\n",
       "      <td>0.646875</td>\n",
       "      <td>0.646875</td>\n",
       "    </tr>\n",
       "    <tr>\n",
       "      <th>16</th>\n",
       "      <td>일사(MJ/m2)</td>\n",
       "      <td>-0.225681</td>\n",
       "      <td>-0.850816</td>\n",
       "    </tr>\n",
       "    <tr>\n",
       "      <th>17</th>\n",
       "      <td>적설(cm)</td>\n",
       "      <td>0.227471</td>\n",
       "      <td>1.137353</td>\n",
       "    </tr>\n",
       "    <tr>\n",
       "      <th>18</th>\n",
       "      <td>3시간신적설(cm)</td>\n",
       "      <td>0.438335</td>\n",
       "      <td>1.884841</td>\n",
       "    </tr>\n",
       "    <tr>\n",
       "      <th>19</th>\n",
       "      <td>전운량(10분위)</td>\n",
       "      <td>0.008923</td>\n",
       "      <td>0.089231</td>\n",
       "    </tr>\n",
       "    <tr>\n",
       "      <th>20</th>\n",
       "      <td>중하층운량(10분위)</td>\n",
       "      <td>-0.005338</td>\n",
       "      <td>-0.053379</td>\n",
       "    </tr>\n",
       "    <tr>\n",
       "      <th>21</th>\n",
       "      <td>최저운고(100m )</td>\n",
       "      <td>-0.003570</td>\n",
       "      <td>-0.271329</td>\n",
       "    </tr>\n",
       "    <tr>\n",
       "      <th>22</th>\n",
       "      <td>시정(10m)</td>\n",
       "      <td>0.000535</td>\n",
       "      <td>1.045935</td>\n",
       "    </tr>\n",
       "    <tr>\n",
       "      <th>23</th>\n",
       "      <td>지면온도(°C)</td>\n",
       "      <td>-0.001357</td>\n",
       "      <td>-0.095373</td>\n",
       "    </tr>\n",
       "    <tr>\n",
       "      <th>24</th>\n",
       "      <td>5cm 지중온도(°C)</td>\n",
       "      <td>-0.063786</td>\n",
       "      <td>-2.277153</td>\n",
       "    </tr>\n",
       "    <tr>\n",
       "      <th>25</th>\n",
       "      <td>10cm 지중온도(°C)</td>\n",
       "      <td>-0.081382</td>\n",
       "      <td>-2.791395</td>\n",
       "    </tr>\n",
       "    <tr>\n",
       "      <th>26</th>\n",
       "      <td>20cm 지중온도(°C)</td>\n",
       "      <td>-0.377886</td>\n",
       "      <td>-11.941190</td>\n",
       "    </tr>\n",
       "    <tr>\n",
       "      <th>27</th>\n",
       "      <td>30cm 지중온도(°C)</td>\n",
       "      <td>0.427902</td>\n",
       "      <td>12.623115</td>\n",
       "    </tr>\n",
       "    <tr>\n",
       "      <th>28</th>\n",
       "      <td>month</td>\n",
       "      <td>-0.059100</td>\n",
       "      <td>-0.650101</td>\n",
       "    </tr>\n",
       "    <tr>\n",
       "      <th>29</th>\n",
       "      <td>day</td>\n",
       "      <td>-0.006879</td>\n",
       "      <td>-0.206363</td>\n",
       "    </tr>\n",
       "    <tr>\n",
       "      <th>30</th>\n",
       "      <td>hour</td>\n",
       "      <td>-0.007176</td>\n",
       "      <td>-0.165056</td>\n",
       "    </tr>\n",
       "    <tr>\n",
       "      <th>31</th>\n",
       "      <td>before_1</td>\n",
       "      <td>-0.001416</td>\n",
       "      <td>-0.545063</td>\n",
       "    </tr>\n",
       "  </tbody>\n",
       "</table>\n",
       "</div>"
      ],
      "text/plain": [
       "          feature        coef      coef_s\n",
       "0             SO2 -183.118248   -1.281828\n",
       "1              CO    3.674598    5.879356\n",
       "2              O3   30.861568    4.413204\n",
       "3             NO2   32.306592    2.293768\n",
       "4            PM10    0.968419  369.936014\n",
       "5            PM25   -0.040812   -4.897488\n",
       "6          기온(°C)    0.528911   26.075290\n",
       "7         강수량(mm)   -0.084411   -3.435529\n",
       "8         풍속(m/s)   -0.248859   -2.189958\n",
       "9        풍향(16방위)    0.001202    0.432630\n",
       "10          습도(%)    0.090757    7.532817\n",
       "11       증기압(hPa)   -0.030985   -1.059697\n",
       "12      이슬점온도(°C)   -0.304320  -15.124697\n",
       "13      현지기압(hPa)   -3.626223 -147.587277\n",
       "14      해면기압(hPa)    3.559440  150.564321\n",
       "15         일조(hr)    0.646875    0.646875\n",
       "16      일사(MJ/m2)   -0.225681   -0.850816\n",
       "17         적설(cm)    0.227471    1.137353\n",
       "18     3시간신적설(cm)    0.438335    1.884841\n",
       "19      전운량(10분위)    0.008923    0.089231\n",
       "20    중하층운량(10분위)   -0.005338   -0.053379\n",
       "21    최저운고(100m )   -0.003570   -0.271329\n",
       "22        시정(10m)    0.000535    1.045935\n",
       "23       지면온도(°C)   -0.001357   -0.095373\n",
       "24   5cm 지중온도(°C)   -0.063786   -2.277153\n",
       "25  10cm 지중온도(°C)   -0.081382   -2.791395\n",
       "26  20cm 지중온도(°C)   -0.377886  -11.941190\n",
       "27  30cm 지중온도(°C)    0.427902   12.623115\n",
       "28          month   -0.059100   -0.650101\n",
       "29            day   -0.006879   -0.206363\n",
       "30           hour   -0.007176   -0.165056\n",
       "31       before_1   -0.001416   -0.545063"
      ]
     },
     "execution_count": 17,
     "metadata": {},
     "output_type": "execute_result"
    }
   ],
   "source": [
    "pd.merge(coef, coef_s, on='feature')"
   ]
  },
  {
   "cell_type": "code",
   "execution_count": 18,
   "id": "fe2096b7",
   "metadata": {
    "tags": []
   },
   "outputs": [
    {
     "data": {
      "text/plain": [
       "['./linear_model.pkl']"
      ]
     },
     "execution_count": 18,
     "metadata": {},
     "output_type": "execute_result"
    }
   ],
   "source": [
    "# 학습한 모델을 pkl 파일로 저장해보세요.(joblib 활용)\n",
    "joblib.dump(lr, './linear_model.pkl')"
   ]
  },
  {
   "cell_type": "markdown",
   "id": "44e1265e-939a-41d6-87cd-98211da2b7d1",
   "metadata": {
    "tags": []
   },
   "source": [
    "### (2) 모델링: 랜덤포레스트"
   ]
  },
  {
   "cell_type": "markdown",
   "id": "crazy-escape",
   "metadata": {},
   "source": [
    "* 랜덤포레스트: 배깅의 일종으로 의사결정나무(Decision Tree) 여러 개를 모아서 숲을 랜덤으로 구성하고 이를 종합해서 최종 모델을 산출하는 기법\n",
    "* Train과 Test로 나눈 데이터를 기준으로 렌덤포레스트로 모델을 학습을 진행하고 평가를 해주세요.\n",
    "* 그리고 모델 파일을 pkl로 저장해주세요.\n",
    "* 성능지표 : MSE, R-squared Score(소수점 5째자리까지)"
   ]
  },
  {
   "cell_type": "code",
   "execution_count": 19,
   "id": "10b33a11",
   "metadata": {
    "tags": []
   },
   "outputs": [
    {
     "name": "stderr",
     "output_type": "stream",
     "text": [
      "C:\\Users\\User\\anaconda3\\Lib\\site-packages\\sklearn\\base.py:1151: DataConversionWarning: A column-vector y was passed when a 1d array was expected. Please change the shape of y to (n_samples,), for example using ravel().\n",
      "  return fit_method(estimator, *args, **kwargs)\n"
     ]
    }
   ],
   "source": [
    "# 랜덤포레스트로 모델 학습 진행 하고 성능을 평가하여 출력해 보세요.\n",
    "# 성능평가는 MSE, R-Squared Score\n",
    "rf = RFR(random_state=42)\n",
    "rf.fit(train_x, train_y)\n",
    "y_pred_RF = rf.predict(test_x)"
   ]
  },
  {
   "cell_type": "code",
   "execution_count": 20,
   "id": "6378f170-4782-486a-b435-ef021a2ce0af",
   "metadata": {
    "tags": []
   },
   "outputs": [
    {
     "name": "stdout",
     "output_type": "stream",
     "text": [
      "64.53004398475481\n",
      "0.9424208421853032\n"
     ]
    }
   ],
   "source": [
    "print(mse(test_y, y_pred_RF))\n",
    "print(r2_score(test_y, y_pred_RF))"
   ]
  },
  {
   "cell_type": "code",
   "execution_count": 21,
   "id": "41971ff8",
   "metadata": {
    "tags": []
   },
   "outputs": [
    {
     "data": {
      "text/plain": [
       "['./randomforest_model.pkl']"
      ]
     },
     "execution_count": 21,
     "metadata": {},
     "output_type": "execute_result"
    }
   ],
   "source": [
    "# 학습한 모델을 파일로 저장해보세요.(joblib 활용)\n",
    "joblib.dump(rf, './randomforest_model.pkl')"
   ]
  },
  {
   "cell_type": "markdown",
   "id": "4b942bb3",
   "metadata": {},
   "source": [
    "### (2-1) 랜덤포레스트 feature_importances 확인\n",
    "* 렌덤포레스트로 학습한 모델의 feature_importances를 구해보세요."
   ]
  },
  {
   "cell_type": "code",
   "execution_count": 22,
   "id": "e19f84b0",
   "metadata": {
    "tags": []
   },
   "outputs": [
    {
     "data": {
      "image/png": "[encoded data removed]",
      "text/plain": [
       "<Figure size 640x480 with 1 Axes>"
      ]
     },
     "metadata": {},
     "output_type": "display_data"
    }
   ],
   "source": [
    "# 렌덤포레스트로 학습한 모델의 feature_importances를 구해보세요.\n",
    "# 아래에 필요한 코드를 작성하고 결과를 확인합니다.\n",
    "plt.barh(y=train_x.columns, width=rf.feature_importances_)\n",
    "plt.show()"
   ]
  },
  {
   "cell_type": "code",
   "execution_count": 23,
   "id": "7c21c320",
   "metadata": {},
   "outputs": [],
   "source": [
    "# 확인 후 알수 있었던 인사이트가 있었으면 정리해보세요!\n",
    "# 이전 PM10값이 큰 영향을 미침"
   ]
  },
  {
   "cell_type": "markdown",
   "id": "95401368-9bff-4118-b07a-92b833e33f20",
   "metadata": {
    "tags": []
   },
   "source": [
    "### (3) 모델링: GradientBoosting"
   ]
  },
  {
   "cell_type": "markdown",
   "id": "convinced-vocabulary",
   "metadata": {},
   "source": [
    "* GradientBoosting: 앞선 모델의 에러를 다음 모델의 예측 값으로 활용하면서 가중치 업데이트 하는데 경사하강법(Gradient Descent)를 활용해서 최적 모델을 만드는 기법\n",
    "* Train과 Test로 나눈 데이터를 기준으로 그라디언트부스팅으로 모델을 학습을 진행하고 평가를 해주세요.\n",
    "* 그리고 모델 파일을 pkl로 저장해주세요.\n",
    "* 성능지표 : MSE, R-squared Score(소수점 5째자리까지)"
   ]
  },
  {
   "cell_type": "code",
   "execution_count": 24,
   "id": "continent-olympus",
   "metadata": {
    "tags": []
   },
   "outputs": [
    {
     "name": "stderr",
     "output_type": "stream",
     "text": [
      "C:\\Users\\User\\anaconda3\\Lib\\site-packages\\sklearn\\ensemble\\_gb.py:424: DataConversionWarning: A column-vector y was passed when a 1d array was expected. Please change the shape of y to (n_samples, ), for example using ravel().\n",
      "  y = column_or_1d(y, warn=True)\n"
     ]
    }
   ],
   "source": [
    "# 아래에 필요한 코드를 작성하고 결과를 확인합니다.\n",
    "\n",
    "# 랜덤포레스트로 모델 학습 진행 하고 성능을 평가하여 출력해 보세요.\n",
    "# 성능평가는 MSE, R-Squared Score\n",
    "gb = GBR(random_state=42)\n",
    "gb.fit(train_x, train_y)\n",
    "y_pred_GB = gb.predict(test_x)"
   ]
  },
  {
   "cell_type": "code",
   "execution_count": 25,
   "id": "f2210fe8-c686-429b-b6a6-0af2672234dc",
   "metadata": {
    "tags": []
   },
   "outputs": [
    {
     "name": "stdout",
     "output_type": "stream",
     "text": [
      "75.83712712321162\n",
      "0.9323317071987083\n"
     ]
    }
   ],
   "source": [
    "print(mse(test_y, y_pred_GB))\n",
    "print(r2_score(test_y, y_pred_GB))"
   ]
  },
  {
   "cell_type": "code",
   "execution_count": 26,
   "id": "9bdccb80",
   "metadata": {
    "tags": []
   },
   "outputs": [
    {
     "data": {
      "text/plain": [
       "['./gradientboosting_model.pkl']"
      ]
     },
     "execution_count": 26,
     "metadata": {},
     "output_type": "execute_result"
    }
   ],
   "source": [
    "# 학습한 모델을 파일로 저장해보세요.(joblib 활용)\n",
    "joblib.dump(gb, './gradientboosting_model.pkl')"
   ]
  },
  {
   "cell_type": "markdown",
   "id": "803ed8fd",
   "metadata": {},
   "source": [
    "### (3-1) 그라디언트부스팅 feature_importances 확인\n",
    "* 학습한 모델의 feature_importances를 구해보세요."
   ]
  },
  {
   "cell_type": "code",
   "execution_count": 27,
   "id": "8deba58d",
   "metadata": {
    "tags": []
   },
   "outputs": [
    {
     "data": {
      "image/png": "[encoded data removed]",
      "text/plain": [
       "<Figure size 640x480 with 1 Axes>"
      ]
     },
     "metadata": {},
     "output_type": "display_data"
    }
   ],
   "source": [
    "# 그라디언트부스팅으로 학습한 모델의 feature_importances를 구해보세요.\n",
    "# 아래에 필요한 코드를 작성하고 결과를 확인합니다.\n",
    "plt.barh(y=train_x.columns, width=gb.feature_importances_)\n",
    "plt.show()"
   ]
  },
  {
   "cell_type": "code",
   "execution_count": 28,
   "id": "9d1bfe7d",
   "metadata": {
    "tags": []
   },
   "outputs": [],
   "source": [
    "# 확인 후 알수 있었던 인사이트가 있었으면 정리해보세요!\n"
   ]
  },
  {
   "cell_type": "markdown",
   "id": "eb89852b-b155-4f0a-aaef-2a035caccda7",
   "metadata": {
    "tags": []
   },
   "source": [
    "### (4) 모델링: Self Choice Model "
   ]
  },
  {
   "cell_type": "markdown",
   "id": "305bbd5b",
   "metadata": {},
   "source": [
    "* Self Choice Model: 앞선 교육과정에서 배운 머신러닝 모델 중 어떤 것이든 좋습니다. 원하는 모델을 선택해서 학습을 시켜보세요.\n",
    "* Train과 Test로 나눈 데이터를 기준으로 Self Choice Model로 모델을 학습을 진행하고 평가를 해주세요.\n",
    "* 그리고 모델 파일을 pkl로 저장해주세요.\n",
    "* 성능지표 : MSE, R-squared Score(소수점 5째자리까지)"
   ]
  },
  {
   "cell_type": "code",
   "execution_count": 29,
   "id": "a2c66605",
   "metadata": {
    "tags": []
   },
   "outputs": [
    {
     "name": "stdout",
     "output_type": "stream",
     "text": [
      "[LightGBM] [Warning] Found whitespace in feature_names, replace with underlines\n",
      "[LightGBM] [Info] Auto-choosing col-wise multi-threading, the overhead of testing was 0.001359 seconds.\n",
      "You can set `force_col_wise=true` to remove the overhead.\n",
      "[LightGBM] [Info] Total Bins 4556\n",
      "[LightGBM] [Info] Number of data points in the train set: 8760, number of used features: 32\n",
      "[LightGBM] [Info] Start training from score 31.788356\n"
     ]
    }
   ],
   "source": [
    "# 아래에 필요한 코드를 작성하고 결과를 확인합니다.\n",
    "from lightgbm import LGBMRegressor\n",
    "\n",
    "lgb = LGBMRegressor(random_state=42)\n",
    "lgb.fit(train_x, train_y)\n",
    "y_pred_LGB = lgb.predict(test_x)"
   ]
  },
  {
   "cell_type": "code",
   "execution_count": 30,
   "id": "546ac8bf",
   "metadata": {
    "tags": []
   },
   "outputs": [
    {
     "name": "stdout",
     "output_type": "stream",
     "text": [
      "60.773840868542266\n",
      "0.9457724439921074\n"
     ]
    }
   ],
   "source": [
    "# Test 데이터로 성능을 평가해보세요.\n",
    "print(mse(test_y, y_pred_LGB))\n",
    "print(r2_score(test_y, y_pred_LGB))\n"
   ]
  },
  {
   "cell_type": "code",
   "execution_count": 31,
   "id": "e69d0d7c",
   "metadata": {
    "tags": []
   },
   "outputs": [
    {
     "data": {
      "text/plain": [
       "['./lightGBM_model.pkl']"
      ]
     },
     "execution_count": 31,
     "metadata": {},
     "output_type": "execute_result"
    }
   ],
   "source": [
    "# 학습한 모델을 파일로 저장해보세요.\n",
    "joblib.dump(lgb, './lightGBM_model.pkl')"
   ]
  },
  {
   "cell_type": "code",
   "execution_count": 32,
   "id": "a8ac782c",
   "metadata": {
    "tags": []
   },
   "outputs": [
    {
     "data": {
      "image/png": "[encoded data removed]",
      "text/plain": [
       "<Figure size 640x480 with 1 Axes>"
      ]
     },
     "metadata": {},
     "output_type": "display_data"
    }
   ],
   "source": [
    "# 시간이 되면 Seif choice Model로 학습한 모델의 feature_importances를 구해보세요.\n",
    "# 확인 후 알수 있었던 인사이트가 있었으면 정리해보세요!\n",
    "plt.barh(y=train_x.columns, width=lgb.feature_importances_)\n",
    "plt.show()"
   ]
  },
  {
   "cell_type": "code",
   "execution_count": 33,
   "id": "c1b927a1-1fa6-4507-9695-2b9960019dbb",
   "metadata": {
    "tags": []
   },
   "outputs": [],
   "source": [
    "score = {}\n",
    "\n",
    "score['LinearRegression'] = [mse(test_y, y_pred_lr_s), r2_score(test_y, y_pred_lr_s)]\n",
    "score['RandomForest'] = [mse(test_y, y_pred_RF), r2_score(test_y, y_pred_RF)]\n",
    "score['GradientBoosting'] = [mse(test_y, y_pred_GB), r2_score(test_y, y_pred_GB)]\n",
    "score['LightGBM'] = [mse(test_y, y_pred_LGB), r2_score(test_y, y_pred_LGB)]"
   ]
  },
  {
   "cell_type": "code",
   "execution_count": 34,
   "id": "94fb5653-e100-418b-877e-e8cfcf775a1b",
   "metadata": {
    "tags": []
   },
   "outputs": [
    {
     "data": {
      "text/html": [
       "<div>\n",
       "<style scoped>\n",
       "    .dataframe tbody tr th:only-of-type {\n",
       "        vertical-align: middle;\n",
       "    }\n",
       "\n",
       "    .dataframe tbody tr th {\n",
       "        vertical-align: top;\n",
       "    }\n",
       "\n",
       "    .dataframe thead th {\n",
       "        text-align: right;\n",
       "    }\n",
       "</style>\n",
       "<table border=\"1\" class=\"dataframe\">\n",
       "  <thead>\n",
       "    <tr style=\"text-align: right;\">\n",
       "      <th></th>\n",
       "      <th>mse</th>\n",
       "      <th>r2</th>\n",
       "    </tr>\n",
       "  </thead>\n",
       "  <tbody>\n",
       "    <tr>\n",
       "      <th>LinearRegression</th>\n",
       "      <td>45.464353</td>\n",
       "      <td>0.959433</td>\n",
       "    </tr>\n",
       "    <tr>\n",
       "      <th>RandomForest</th>\n",
       "      <td>64.530044</td>\n",
       "      <td>0.942421</td>\n",
       "    </tr>\n",
       "    <tr>\n",
       "      <th>GradientBoosting</th>\n",
       "      <td>75.837127</td>\n",
       "      <td>0.932332</td>\n",
       "    </tr>\n",
       "    <tr>\n",
       "      <th>LightGBM</th>\n",
       "      <td>60.773841</td>\n",
       "      <td>0.945772</td>\n",
       "    </tr>\n",
       "  </tbody>\n",
       "</table>\n",
       "</div>"
      ],
      "text/plain": [
       "                        mse        r2\n",
       "LinearRegression  45.464353  0.959433\n",
       "RandomForest      64.530044  0.942421\n",
       "GradientBoosting  75.837127  0.932332\n",
       "LightGBM          60.773841  0.945772"
      ]
     },
     "execution_count": 34,
     "metadata": {},
     "output_type": "execute_result"
    }
   ],
   "source": [
    "score = pd.DataFrame(score, index=['mse','r2'])\n",
    "score.transpose()"
   ]
  },
  {
   "cell_type": "markdown",
   "id": "042dc08f-bd32-414a-a6d6-72f0c6c85f1f",
   "metadata": {},
   "source": [
    "- 모든 모델의 r2 score가 0.93이상으로 mse가 가장 작은 선형회귀모델로 예측하는 것이 비교적 정확"
   ]
  },
  {
   "cell_type": "markdown",
   "id": "cb9a8cf9",
   "metadata": {},
   "source": [
    "# 고생하셨습니다👍👍 "
   ]
  }
 ],
 "metadata": {
  "kernelspec": {
   "display_name": "Python 3 (ipykernel)",
   "language": "python",
   "name": "python3"
  },
  "language_info": {
   "codemirror_mode": {
    "name": "ipython",
    "version": 3
   },
   "file_extension": ".py",
   "mimetype": "text/x-python",
   "name": "python",
   "nbconvert_exporter": "python",
   "pygments_lexer": "ipython3",
   "version": "3.11.5"
  },
  "vscode": {
   "interpreter": {
    "hash": "f08154012ddadd8e950e6e9e035c7a7b32c136e7647e9b7c77e02eb723a8bedb"
   }
  }
 },
 "nbformat": 4,
 "nbformat_minor": 5
}
